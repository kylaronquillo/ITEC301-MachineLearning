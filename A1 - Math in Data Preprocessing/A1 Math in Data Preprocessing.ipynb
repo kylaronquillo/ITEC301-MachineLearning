{
 "cells": [
  {
   "cell_type": "markdown",
   "id": "ecc59aec",
   "metadata": {},
   "source": [
    "# Math in Data Preprocessing-Seatwork#1"
   ]
  },
  {
   "cell_type": "markdown",
   "id": "c1e52b7b",
   "metadata": {},
   "source": [
    "### By: Kyla S. Ronquillo"
   ]
  },
  {
   "cell_type": "markdown",
   "id": "9982b4f2",
   "metadata": {},
   "source": [
    "# SEATWORK: Problem 1"
   ]
  },
  {
   "cell_type": "markdown",
   "id": "457cc156",
   "metadata": {},
   "source": [
    "A group of researchers conducted a survey on the ages of people in the Town of Naga. They did this by simply talking to passersby on Naga Plaza Rizal. From their simple survey they gathered:\n",
    "Age: [13, 15, 16, 16, 19, 20, 21, 22, 25, 25, 25, 25, 30, 33, 35,\n",
    "35, 35, 35, 36, 45, 46, 52, 35, 38, 30]\n",
    "(a) Use the binning method to smooth the above data. Assume that the bin\n",
    "size is 5."
   ]
  },
  {
   "cell_type": "markdown",
   "id": "c35fe86e",
   "metadata": {},
   "source": [
    "### Smoothing by Equal Frequency Bins"
   ]
  },
  {
   "cell_type": "code",
   "execution_count": 1,
   "id": "c8fb72a9",
   "metadata": {},
   "outputs": [],
   "source": [
    "import numpy as np\n",
    "import pandas as pd"
   ]
  },
  {
   "cell_type": "code",
   "execution_count": 86,
   "id": "c65ac556",
   "metadata": {},
   "outputs": [],
   "source": [
    "age_group = np.array([13, 15, 16, 16, 19, 20, 21, 22, 25, 25, 25, 25, 30, 33, 35,\n",
    "35, 35, 35, 36, 45, 46, 52, 35, 38, 30])\n",
    "age_group.sort() \n",
    "num_bins = 5"
   ]
  },
  {
   "cell_type": "code",
   "execution_count": 87,
   "id": "6bd38e24",
   "metadata": {},
   "outputs": [
    {
     "name": "stdout",
     "output_type": "stream",
     "text": [
      "Bin 1: 13, 15, 16, 16, 19\n",
      "Bin 2: 20, 21, 22, 25, 25\n",
      "Bin 3: 25, 25, 30, 30, 33\n",
      "Bin 4: 35, 35, 35, 35, 35\n",
      "Bin 5: 36, 38, 45, 46, 52\n"
     ]
    }
   ],
   "source": [
    "bins = np.split(age_group, len(age_group) / num_bins)\n",
    "for i, bin_data in enumerate(bins):\n",
    "    bin_str = ', '.join(map(str, bin_data))\n",
    "    print(f\"Bin {i + 1}: {bin_str}\")"
   ]
  },
  {
   "cell_type": "markdown",
   "id": "73c3c55c",
   "metadata": {},
   "source": [
    "### Smoothing by bin means"
   ]
  },
  {
   "cell_type": "code",
   "execution_count": 88,
   "id": "198293ab",
   "metadata": {},
   "outputs": [
    {
     "name": "stdout",
     "output_type": "stream",
     "text": [
      "Bin 1: 15, 15, 15, 15, 15\n",
      "Bin 2: 22, 22, 22, 22, 22\n",
      "Bin 3: 28, 28, 28, 28, 28\n",
      "Bin 4: 35, 35, 35, 35, 35\n",
      "Bin 5: 43, 43, 43, 43, 43\n"
     ]
    }
   ],
   "source": [
    "# Calculate the mean for each bin and format the output\n",
    "for i, bin_group in enumerate(bins, start=1): \n",
    "    bin_mean = int(bin_group.mean())  \n",
    "    repeated_mean = [str(bin_mean)] * len(bin_group)  \n",
    "    print(f\"Bin {i}: {', '.join(repeated_mean)}\") "
   ]
  },
  {
   "cell_type": "markdown",
   "id": "61d4b4d9",
   "metadata": {},
   "source": [
    "### Smoothing by bin boundary"
   ]
  },
  {
   "cell_type": "code",
   "execution_count": 90,
   "id": "fa650eeb",
   "metadata": {},
   "outputs": [
    {
     "name": "stdout",
     "output_type": "stream",
     "text": [
      "Bin 1: 13, 13, 13, 13, 19\n",
      "Bin 2: 20, 20, 20, 25, 25\n",
      "Bin 3: 25, 25, 33, 33, 33\n",
      "Bin 4: 35, 35, 35, 35, 35\n",
      "Bin 5: 36, 36, 52, 52, 52\n"
     ]
    }
   ],
   "source": [
    "# Smooth data using bin boundary\n",
    "for i, bin_group in enumerate(bins, start=1): \n",
    "    bin_max = np.max(bin_group)\n",
    "    bin_min = np.min(bin_group)\n",
    "    \n",
    "    smoothed_bin = []\n",
    "    for value in bin_group:\n",
    "        # Compare distance from min and max, and replace with the closest boundary\n",
    "        if abs(value - bin_min) <= abs(value - bin_max):\n",
    "            smoothed_bin.append(bin_min)\n",
    "        else:\n",
    "            smoothed_bin.append(bin_max)\n",
    "    \n",
    "    # Format and print the smoothed bin\n",
    "    print(f\"Bin {i}: {', '.join(map(str, smoothed_bin))}\")"
   ]
  },
  {
   "cell_type": "markdown",
   "id": "85797b84",
   "metadata": {},
   "source": [
    "<hr style=\"border: 1px solid black;\">"
   ]
  },
  {
   "cell_type": "markdown",
   "id": "a52a4af6",
   "metadata": {},
   "source": [
    "# SEATWORK: Problem 2"
   ]
  },
  {
   "cell_type": "markdown",
   "id": "0d18d333",
   "metadata": {},
   "source": [
    "Suppose a group of 12 sales price records has been sorted as follows:\n",
    "Sales = [5, 10, 11, 13, 15, 35, 50, 55, 72, 92, 204, 215]\n",
    "Partition them into three bins and smooth the data into the following:\n",
    "- Smoothing by Equal Frequency Bins\n",
    "- Smoothing by bin means\n",
    "- Smoothing by bin boundary\n",
    "Assume that Bin size is 4."
   ]
  },
  {
   "cell_type": "markdown",
   "id": "b6ee5d96",
   "metadata": {},
   "source": [
    "### Smoothing by Equal Frequency Bins"
   ]
  },
  {
   "cell_type": "code",
   "execution_count": 91,
   "id": "5ebd68aa",
   "metadata": {},
   "outputs": [],
   "source": [
    "age_group = np.array([5, 10, 11, 13, 15, 35, 50, 55, 72, 92, 204, 215])\n",
    "age_group.sort() \n",
    "num_bins = 4"
   ]
  },
  {
   "cell_type": "code",
   "execution_count": 92,
   "id": "40f61056",
   "metadata": {},
   "outputs": [
    {
     "name": "stdout",
     "output_type": "stream",
     "text": [
      "Bin 1: 5, 10, 11, 13\n",
      "Bin 2: 15, 35, 50, 55\n",
      "Bin 3: 72, 92, 204, 215\n"
     ]
    }
   ],
   "source": [
    "bins = np.split(age_group, len(age_group) / num_bins)\n",
    "for i, bin_data in enumerate(bins):\n",
    "    # Convert each bin to a string with the format you want\n",
    "    bin_str = ', '.join(map(str, bin_data))\n",
    "    print(f\"Bin {i + 1}: {bin_str}\")"
   ]
  },
  {
   "cell_type": "markdown",
   "id": "1fa567c2",
   "metadata": {},
   "source": [
    "### Smoothing by bin means"
   ]
  },
  {
   "cell_type": "code",
   "execution_count": 93,
   "id": "3b877a30",
   "metadata": {},
   "outputs": [
    {
     "name": "stdout",
     "output_type": "stream",
     "text": [
      "Bin 1: 9, 9, 9, 9\n",
      "Bin 2: 38, 38, 38, 38\n",
      "Bin 3: 145, 145, 145, 145\n"
     ]
    }
   ],
   "source": [
    "# Calculate the mean for each bin and format the output\n",
    "for i, bin_group in enumerate(bins, start=1): \n",
    "    bin_mean = int(bin_group.mean()) \n",
    "    repeated_mean = [str(bin_mean)] * len(bin_group)  \n",
    "    print(f\"Bin {i}: {', '.join(repeated_mean)}\") "
   ]
  },
  {
   "cell_type": "markdown",
   "id": "ddd8f16d",
   "metadata": {},
   "source": [
    "### Smoothing by bin boundary"
   ]
  },
  {
   "cell_type": "code",
   "execution_count": 94,
   "id": "c7dc8af0",
   "metadata": {},
   "outputs": [
    {
     "name": "stdout",
     "output_type": "stream",
     "text": [
      "Bin 1: 5, 13, 13, 13\n",
      "Bin 2: 15, 15, 55, 55\n",
      "Bin 3: 72, 72, 215, 215\n"
     ]
    }
   ],
   "source": [
    "# Smooth data using bin boundary\n",
    "for i, bin_group in enumerate(bins, start=1): \n",
    "    bin_max = np.max(bin_group)\n",
    "    bin_min = np.min(bin_group)\n",
    "    \n",
    "    smoothed_bin = []\n",
    "    for value in bin_group:\n",
    "        if abs(value - bin_min) <= abs(value - bin_max):\n",
    "            smoothed_bin.append(bin_min)\n",
    "        else:\n",
    "            smoothed_bin.append(bin_max)\n",
    "    \n",
    "    print(f\"Bin {i}: {', '.join(map(str, smoothed_bin))}\")"
   ]
  },
  {
   "cell_type": "markdown",
   "id": "24ecc829",
   "metadata": {},
   "source": [
    "<hr style=\"border: 1px solid black;\">"
   ]
  },
  {
   "cell_type": "markdown",
   "id": "45427073",
   "metadata": {},
   "source": [
    "# SEATWORK: Problem 3"
   ]
  },
  {
   "cell_type": "markdown",
   "id": "4df6393c",
   "metadata": {},
   "source": [
    "Use the methods below to normalize the following group of data:\n",
    "[50, 100, 150, 200, 250]\n",
    "(a) min-max normalization \n",
    "(b) z-score normalization\n",
    "(c) z-score normalization using the mean absolute deviation instead of\n",
    "standard deviation"
   ]
  },
  {
   "cell_type": "markdown",
   "id": "cbeceab0",
   "metadata": {},
   "source": [
    "### (a) min-max normalization "
   ]
  },
  {
   "cell_type": "code",
   "execution_count": 11,
   "id": "0cac85ee",
   "metadata": {},
   "outputs": [],
   "source": [
    "data_1 = np.array([50, 100, 150, 200, 250])"
   ]
  },
  {
   "cell_type": "code",
   "execution_count": 40,
   "id": "830b25b3",
   "metadata": {},
   "outputs": [],
   "source": [
    "def min_max_normalize(data):\n",
    "    data_min = np.min(data)\n",
    "    data_max = np.max(data)\n",
    "    normalized_array = []\n",
    "    \n",
    "    for i in range(len(data)):\n",
    "        top = data[i] - data_min\n",
    "        down = data_max - data_min\n",
    "        normalized_data = top / down\n",
    "        normalized_array.append(round(normalized_data, 2))\n",
    "\n",
    "    return normalized_array"
   ]
  },
  {
   "cell_type": "code",
   "execution_count": 37,
   "id": "bddcca2b",
   "metadata": {},
   "outputs": [
    {
     "name": "stdout",
     "output_type": "stream",
     "text": [
      " Data  Min-Max Normalization\n",
      "   50                   0.00\n",
      "  100                   0.25\n",
      "  150                   0.50\n",
      "  200                   0.75\n",
      "  250                   1.00\n"
     ]
    }
   ],
   "source": [
    "normalized_array = min_max_normalize(data_1)\n",
    "df = pd.DataFrame({'Data': data_1, 'Min-Max Normalization': normalized_array})\n",
    "print(df.to_string(index=False))"
   ]
  },
  {
   "cell_type": "markdown",
   "id": "a12656a6",
   "metadata": {},
   "source": [
    "### (b) z-score normalization"
   ]
  },
  {
   "cell_type": "code",
   "execution_count": 14,
   "id": "2de9ce39",
   "metadata": {},
   "outputs": [],
   "source": [
    "def z_score_normalize(data):\n",
    "    mean_data = np.mean(data)\n",
    "    std_data = np.std(data).round(2)\n",
    "    normalized_array = []\n",
    "    \n",
    "    for i in range(len(data)):\n",
    "        normalized_data = (data[i] - mean_data) / std_data\n",
    "        normalized_data = normalized_data.round(2)\n",
    "        normalized_array.append(normalized_data)\n",
    "    \n",
    "    return normalized_array"
   ]
  },
  {
   "cell_type": "code",
   "execution_count": 15,
   "id": "e1444390",
   "metadata": {},
   "outputs": [
    {
     "name": "stdout",
     "output_type": "stream",
     "text": [
      " Data  Z-score Normalization\n",
      "   50                  -1.41\n",
      "  100                  -0.71\n",
      "  150                   0.00\n",
      "  200                   0.71\n",
      "  250                   1.41\n"
     ]
    }
   ],
   "source": [
    "normalized_array = z_score_normalize(data_1)\n",
    "df = pd.DataFrame({'Data': data_1, 'Z-score Normalization': normalized_array})\n",
    "print(df.to_string(index=False))"
   ]
  },
  {
   "cell_type": "markdown",
   "id": "5e1272ef",
   "metadata": {},
   "source": [
    "### (c) z-score normalization using the mean absolute deviation"
   ]
  },
  {
   "cell_type": "code",
   "execution_count": 16,
   "id": "841dea65",
   "metadata": {},
   "outputs": [],
   "source": [
    "def mad_normalize(data):\n",
    "    mean_data = np.mean(data)\n",
    "    absolute_deviation = np.abs(data - mean_data)\n",
    "    mad_data = np.mean(absolute_deviation)\n",
    "    normalized_array = []\n",
    "    \n",
    "    for i in range(len(data)):\n",
    "        normalized_data = (data[i] - mean_data) / mad_data\n",
    "        normalized_data = normalized_data.round(2)\n",
    "        normalized_array.append(normalized_data)\n",
    "    \n",
    "    return normalized_array"
   ]
  },
  {
   "cell_type": "code",
   "execution_count": 17,
   "id": "9a85e132",
   "metadata": {},
   "outputs": [
    {
     "name": "stdout",
     "output_type": "stream",
     "text": [
      " Data  Z-score Normalization using MAD\n",
      "   50                            -1.67\n",
      "  100                            -0.83\n",
      "  150                             0.00\n",
      "  200                             0.83\n",
      "  250                             1.67\n"
     ]
    }
   ],
   "source": [
    "normalized_array = mad_normalize(data_1)\n",
    "df = pd.DataFrame({'Data': data_1, 'Z-score Normalization using MAD': normalized_array})\n",
    "print(df.to_string(index=False))"
   ]
  },
  {
   "cell_type": "markdown",
   "id": "0044a076",
   "metadata": {},
   "source": [
    "<hr style=\"border: 1px solid black;\">"
   ]
  },
  {
   "cell_type": "markdown",
   "id": "802c7488",
   "metadata": {},
   "source": [
    "# SEATWORK: Problem 4"
   ]
  },
  {
   "cell_type": "markdown",
   "id": "afb8c830",
   "metadata": {},
   "source": [
    "Use the methods below to normalize the following group of data:\n",
    "[500, 600, 700, 900, 1000]\n",
    "- (a) min-max normalization \n",
    "- (b) z-score normalization\n",
    "- (c) z-score normalization using the mean absolute deviation instead of\n",
    "standard deviation"
   ]
  },
  {
   "cell_type": "markdown",
   "id": "ea9359f9",
   "metadata": {},
   "source": [
    "### (a) min-max normalization "
   ]
  },
  {
   "cell_type": "code",
   "execution_count": 18,
   "id": "8e4d5984",
   "metadata": {},
   "outputs": [],
   "source": [
    "data_2 = np.array([500, 600, 700, 900, 1000])"
   ]
  },
  {
   "cell_type": "code",
   "execution_count": 38,
   "id": "9784c405",
   "metadata": {},
   "outputs": [
    {
     "name": "stdout",
     "output_type": "stream",
     "text": [
      " Data  Min-Max Normalization\n",
      "  500                    0.0\n",
      "  600                    0.2\n",
      "  700                    0.4\n",
      "  900                    0.8\n",
      " 1000                    1.0\n"
     ]
    }
   ],
   "source": [
    "normalized_array = min_max_normalize(data_2)\n",
    "df = pd.DataFrame({'Data': data_2, 'Min-Max Normalization': normalized_array})\n",
    "print(df.to_string(index=False))"
   ]
  },
  {
   "cell_type": "markdown",
   "id": "e821a222",
   "metadata": {},
   "source": [
    "### (b) z-score normalization"
   ]
  },
  {
   "cell_type": "code",
   "execution_count": 21,
   "id": "3cbd7411",
   "metadata": {},
   "outputs": [
    {
     "name": "stdout",
     "output_type": "stream",
     "text": [
      " Data  Z-score Normalization\n",
      "  500                  -1.29\n",
      "  600                  -0.75\n",
      "  700                  -0.22\n",
      "  900                   0.86\n",
      " 1000                   1.40\n"
     ]
    }
   ],
   "source": [
    "normalized_array = z_score_normalize(data_2)\n",
    "df = pd.DataFrame({'Data': data_2, 'Z-score Normalization': normalized_array})\n",
    "print(df.to_string(index=False))"
   ]
  },
  {
   "cell_type": "markdown",
   "id": "641d9a96",
   "metadata": {},
   "source": [
    "### z-score normalization using the mean absolute deviation"
   ]
  },
  {
   "cell_type": "code",
   "execution_count": 22,
   "id": "48d2ed71",
   "metadata": {},
   "outputs": [
    {
     "name": "stdout",
     "output_type": "stream",
     "text": [
      " Data  Z-score Normalization using MAD\n",
      "  500                            -1.43\n",
      "  600                            -0.83\n",
      "  700                            -0.24\n",
      "  900                             0.95\n",
      " 1000                             1.55\n"
     ]
    }
   ],
   "source": [
    "normalized_array = mad_normalize(data_2)\n",
    "df = pd.DataFrame({'Data': data_2, 'Z-score Normalization using MAD': normalized_array})\n",
    "print(df.to_string(index=False))"
   ]
  },
  {
   "cell_type": "markdown",
   "id": "dcb35f21",
   "metadata": {},
   "source": [
    "<hr style=\"border: 1px solid black;\">"
   ]
  },
  {
   "cell_type": "markdown",
   "id": "36d189f4",
   "metadata": {},
   "source": [
    "# SEATWORK: Problem 5"
   ]
  },
  {
   "cell_type": "markdown",
   "id": "053bab04",
   "metadata": {},
   "source": [
    "Using the data for age given in Problem 1, answer the following:\n",
    "(a) Use min-max normalization to transform the value 35 for age onto\n",
    "the range [0.0, 1.0]. \n",
    "(b) Use z-score normalization to transform the value 35 for age, where\n",
    "the standard deviation of age is 12.94 years."
   ]
  },
  {
   "cell_type": "markdown",
   "id": "aa75747f",
   "metadata": {},
   "source": [
    "### min-max normalization"
   ]
  },
  {
   "cell_type": "code",
   "execution_count": 52,
   "id": "7f5da8b5",
   "metadata": {},
   "outputs": [
    {
     "name": "stdout",
     "output_type": "stream",
     "text": [
      " Data  Min-Max Normalization\n",
      "   35                   0.56\n"
     ]
    }
   ],
   "source": [
    "normalized_array = min_max_normalize(age_group)\n",
    "df = pd.DataFrame({'Data': age_group, 'Min-Max Normalization': normalized_array})\n",
    "result = df[df['Data'] == 35].head(1)\n",
    "print(result.to_string(index=False))"
   ]
  },
  {
   "cell_type": "markdown",
   "id": "be43a5f4",
   "metadata": {},
   "source": [
    "### (b) z-score normalization"
   ]
  },
  {
   "cell_type": "code",
   "execution_count": 62,
   "id": "bd08c2f0",
   "metadata": {},
   "outputs": [
    {
     "name": "stdout",
     "output_type": "stream",
     "text": [
      " Data  Z-score Normalization\n",
      "   35                   0.46\n"
     ]
    }
   ],
   "source": [
    "mean_data = np.mean(age_group)\n",
    "age_data = 35\n",
    "std_data = 12.94\n",
    "normalized_data = (age_data - mean_data) / std_data\n",
    "normalized_data = normalized_data.round(2)\n",
    "result_df = pd.DataFrame({'Data': [35], 'Z-score Normalization': [normalized_data]})\n",
    "print(result_df.to_string(index=False))"
   ]
  },
  {
   "cell_type": "markdown",
   "id": "d5869f8f",
   "metadata": {},
   "source": [
    "<hr style=\"border: 1px solid black;\">"
   ]
  },
  {
   "cell_type": "markdown",
   "id": "019123b9",
   "metadata": {},
   "source": [
    "# SEATWORK: Problem 7"
   ]
  },
  {
   "cell_type": "markdown",
   "id": "9fea7ad9",
   "metadata": {},
   "source": [
    "Using Linear Regression by Least Square, obtain the following from the given sample data:\n",
    "1. Use the method of Least Squares to find the equation for the predicting weight given the age.\n",
    "2. Predict the weight of a person of age 36."
   ]
  },
  {
   "cell_type": "code",
   "execution_count": 67,
   "id": "fc03c52a",
   "metadata": {},
   "outputs": [],
   "source": [
    "x_age = np.array([25, 30, 40, 35, 22, 28, 45, 33, 27, 38])\n",
    "y_weight = np.array([55, 70, 75, 80, 60, 50, 85, 68, 72, 77])"
   ]
  },
  {
   "cell_type": "code",
   "execution_count": 68,
   "id": "7925060f",
   "metadata": {},
   "outputs": [],
   "source": [
    "def calculate_b(x_array, y_array):\n",
    "    # Calculate means\n",
    "    x_mean = np.mean(x_array)\n",
    "    y_mean = np.mean(y_array)\n",
    "\n",
    "    # Calculate x_ray and y_ray\n",
    "    x_ray = x_array - x_mean\n",
    "    y_ray = y_array - y_mean\n",
    "\n",
    "    # Calculate mean_diff_x_y and squared_x_ray\n",
    "    mean_diff_x_y = x_ray * y_ray\n",
    "    squared_x_ray = x_ray ** 2\n",
    "\n",
    "    # Create DataFrame with all the details\n",
    "    df = pd.DataFrame({\n",
    "        'x_age': x_array,\n",
    "        'y_weight': y_array,\n",
    "        'x_ray': x_ray,\n",
    "        'y_ray': y_ray,\n",
    "        'mean_diff_x_y': mean_diff_x_y,\n",
    "        'squared_x_ray': squared_x_ray\n",
    "    })\n",
    "\n",
    "    # Print the DataFrame in table format\n",
    "    print(df.to_string(index=False))\n",
    "    \n",
    "    # Get the sum of mean_diff_x_y and the sum of squared_x_ray\n",
    "    sum_mean_diff_x_y = mean_diff_x_y.sum()\n",
    "    sum_of_squared_x_ray = squared_x_ray.sum()\n",
    "    #print('Sum of mean_diff_x_y:', sum_mean_diff_x_y)\n",
    "    #print('Sum of squared_x_ray:', sum_of_squared_x_ray)\n",
    "\n",
    "    # Get the value of b\n",
    "    b = sum_mean_diff_x_y / sum_of_squared_x_ray\n",
    "    print('Value of b:', b.round(2))\n",
    "    \n",
    "    return b, x_mean, y_mean"
   ]
  },
  {
   "cell_type": "code",
   "execution_count": 69,
   "id": "1c4b35da",
   "metadata": {},
   "outputs": [
    {
     "name": "stdout",
     "output_type": "stream",
     "text": [
      " x_age  y_weight  x_ray  y_ray  mean_diff_x_y  squared_x_ray\n",
      "    25        55   -7.3  -14.2         103.66          53.29\n",
      "    30        70   -2.3    0.8          -1.84           5.29\n",
      "    40        75    7.7    5.8          44.66          59.29\n",
      "    35        80    2.7   10.8          29.16           7.29\n",
      "    22        60  -10.3   -9.2          94.76         106.09\n",
      "    28        50   -4.3  -19.2          82.56          18.49\n",
      "    45        85   12.7   15.8         200.66         161.29\n",
      "    33        68    0.7   -1.2          -0.84           0.49\n",
      "    27        72   -5.3    2.8         -14.84          28.09\n",
      "    38        77    5.7    7.8          44.46          32.49\n",
      "Value of b: 1.23\n"
     ]
    }
   ],
   "source": [
    "b, x_mean, y_mean = calculate_b(x_age, y_weight)"
   ]
  },
  {
   "cell_type": "code",
   "execution_count": 70,
   "id": "fecefac0",
   "metadata": {},
   "outputs": [],
   "source": [
    "def calculate_a(b, x_mean, y_mean) : \n",
    "    a = y_mean - (b * x_mean)\n",
    "    print('Value of a:', a.round(2))\n",
    "    return a"
   ]
  },
  {
   "cell_type": "code",
   "execution_count": 73,
   "id": "b6adc333",
   "metadata": {},
   "outputs": [
    {
     "name": "stdout",
     "output_type": "stream",
     "text": [
      "Value of a: 29.35\n"
     ]
    }
   ],
   "source": [
    "a = calculate_a(b, x_mean, y_mean)"
   ]
  },
  {
   "cell_type": "code",
   "execution_count": 74,
   "id": "f7e34f59",
   "metadata": {},
   "outputs": [
    {
     "name": "stdout",
     "output_type": "stream",
     "text": [
      "73.76 kg\n"
     ]
    }
   ],
   "source": [
    "predict_weight = a + (b * 36)\n",
    "print(predict_weight.round(2), 'kg')"
   ]
  },
  {
   "cell_type": "markdown",
   "id": "eb775893",
   "metadata": {},
   "source": [
    "<hr style=\"border: 1px solid black;\">"
   ]
  },
  {
   "cell_type": "markdown",
   "id": "efd61cef",
   "metadata": {},
   "source": [
    "# SEATWORK: Problem 6"
   ]
  },
  {
   "cell_type": "markdown",
   "id": "d4d5dac7",
   "metadata": {},
   "source": [
    "Using Linear Regression by Least Square, obtain the following from the given sample data:\n",
    "1. Use the method of Least Squares to find the equation for the predicting final grade given the midterm score.\n",
    "2. Predict the final grade of a student who had a midterm score of 95."
   ]
  },
  {
   "cell_type": "code",
   "execution_count": 82,
   "id": "9a0a7e79",
   "metadata": {},
   "outputs": [],
   "source": [
    "x_midtermscore = np.array([70, 80, 85, 90, 60, 75, 85, 50])\n",
    "y_finalgrade = np.array([82, 88, 92, 96, 68, 78, 90, 58])"
   ]
  },
  {
   "cell_type": "code",
   "execution_count": 83,
   "id": "f553635f",
   "metadata": {},
   "outputs": [
    {
     "name": "stdout",
     "output_type": "stream",
     "text": [
      " x_age  y_weight   x_ray  y_ray  mean_diff_x_y  squared_x_ray\n",
      "    70        82  -4.375    0.5        -2.1875      19.140625\n",
      "    80        88   5.625    6.5        36.5625      31.640625\n",
      "    85        92  10.625   10.5       111.5625     112.890625\n",
      "    90        96  15.625   14.5       226.5625     244.140625\n",
      "    60        68 -14.375  -13.5       194.0625     206.640625\n",
      "    75        78   0.625   -3.5        -2.1875       0.390625\n",
      "    85        90  10.625    8.5        90.3125     112.890625\n",
      "    50        58 -24.375  -23.5       572.8125     594.140625\n",
      "Value of b: 0.93\n",
      "Value of a: 12.43\n"
     ]
    }
   ],
   "source": [
    "b, x_mean, y_mean = calculate_b(x_midtermscore, y_finalgrade)\n",
    "a = calculate_a(b, x_mean, y_mean)"
   ]
  },
  {
   "cell_type": "code",
   "execution_count": 84,
   "id": "fbb9a6fa",
   "metadata": {},
   "outputs": [
    {
     "name": "stdout",
     "output_type": "stream",
     "text": [
      "100.65\n"
     ]
    }
   ],
   "source": [
    "predict_finalgrade = a + (b * 95)\n",
    "print(predict_finalgrade.round(2))"
   ]
  },
  {
   "cell_type": "code",
   "execution_count": null,
   "id": "404f0cbf",
   "metadata": {},
   "outputs": [],
   "source": []
  }
 ],
 "metadata": {
  "kernelspec": {
   "display_name": "Python 3 (ipykernel)",
   "language": "python",
   "name": "python3"
  },
  "language_info": {
   "codemirror_mode": {
    "name": "ipython",
    "version": 3
   },
   "file_extension": ".py",
   "mimetype": "text/x-python",
   "name": "python",
   "nbconvert_exporter": "python",
   "pygments_lexer": "ipython3",
   "version": "3.11.4"
  }
 },
 "nbformat": 4,
 "nbformat_minor": 5
}
