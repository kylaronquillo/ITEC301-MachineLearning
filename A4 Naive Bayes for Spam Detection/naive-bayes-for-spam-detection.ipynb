{
 "cells": [
  {
   "cell_type": "markdown",
   "id": "f9f3eae3",
   "metadata": {
    "papermill": {
     "duration": 0.004312,
     "end_time": "2024-12-08T03:17:53.264331",
     "exception": false,
     "start_time": "2024-12-08T03:17:53.260019",
     "status": "completed"
    },
    "tags": []
   },
   "source": [
    "# Naive Bayes for Spam Detection\r\n",
    "\n",
    "### Group: da Unkabogables\n",
    "* Kyla Ronquillo\n",
    "* Jasper Gomez\n",
    "* Maxine Nicole Bernales\n",
    "* John Michael Coronelnel"
   ]
  },
  {
   "cell_type": "code",
   "execution_count": 1,
   "id": "205c9937",
   "metadata": {
    "_cell_guid": "b1076dfc-b9ad-4769-8c92-a6c4dae69d19",
    "_uuid": "8f2839f25d086af736a60e9eeb907d3b93b6e0e5",
    "execution": {
     "iopub.execute_input": "2024-12-08T03:17:53.273646Z",
     "iopub.status.busy": "2024-12-08T03:17:53.273247Z",
     "iopub.status.idle": "2024-12-08T03:17:55.835124Z",
     "shell.execute_reply": "2024-12-08T03:17:55.833834Z"
    },
    "papermill": {
     "duration": 2.569367,
     "end_time": "2024-12-08T03:17:55.837601",
     "exception": false,
     "start_time": "2024-12-08T03:17:53.268234",
     "status": "completed"
    },
    "tags": []
   },
   "outputs": [],
   "source": [
    "# import libraries\n",
    "import pandas as pd\n",
    "from sklearn.feature_extraction.text import CountVectorizer\n",
    "from sklearn.model_selection import train_test_split\n",
    "from sklearn.naive_bayes import MultinomialNB\n",
    "from sklearn.metrics import accuracy_score, classification_report\n",
    "import matplotlib.pyplot as plt\n",
    "from collections import Counter"
   ]
  },
  {
   "cell_type": "code",
   "execution_count": 2,
   "id": "8a58b6bd",
   "metadata": {
    "execution": {
     "iopub.execute_input": "2024-12-08T03:17:55.846511Z",
     "iopub.status.busy": "2024-12-08T03:17:55.845985Z",
     "iopub.status.idle": "2024-12-08T03:17:55.903816Z",
     "shell.execute_reply": "2024-12-08T03:17:55.902682Z"
    },
    "papermill": {
     "duration": 0.064886,
     "end_time": "2024-12-08T03:17:55.906164",
     "exception": false,
     "start_time": "2024-12-08T03:17:55.841278",
     "status": "completed"
    },
    "tags": []
   },
   "outputs": [
    {
     "data": {
      "text/html": [
       "<div>\n",
       "<style scoped>\n",
       "    .dataframe tbody tr th:only-of-type {\n",
       "        vertical-align: middle;\n",
       "    }\n",
       "\n",
       "    .dataframe tbody tr th {\n",
       "        vertical-align: top;\n",
       "    }\n",
       "\n",
       "    .dataframe thead th {\n",
       "        text-align: right;\n",
       "    }\n",
       "</style>\n",
       "<table border=\"1\" class=\"dataframe\">\n",
       "  <thead>\n",
       "    <tr style=\"text-align: right;\">\n",
       "      <th></th>\n",
       "      <th>label</th>\n",
       "      <th>message</th>\n",
       "    </tr>\n",
       "  </thead>\n",
       "  <tbody>\n",
       "    <tr>\n",
       "      <th>0</th>\n",
       "      <td>ham</td>\n",
       "      <td>Go until jurong point, crazy.. Available only ...</td>\n",
       "    </tr>\n",
       "    <tr>\n",
       "      <th>1</th>\n",
       "      <td>ham</td>\n",
       "      <td>Ok lar... Joking wif u oni...</td>\n",
       "    </tr>\n",
       "    <tr>\n",
       "      <th>2</th>\n",
       "      <td>spam</td>\n",
       "      <td>Free entry in 2 a wkly comp to win FA Cup fina...</td>\n",
       "    </tr>\n",
       "    <tr>\n",
       "      <th>3</th>\n",
       "      <td>ham</td>\n",
       "      <td>U dun say so early hor... U c already then say...</td>\n",
       "    </tr>\n",
       "    <tr>\n",
       "      <th>4</th>\n",
       "      <td>ham</td>\n",
       "      <td>Nah I don't think he goes to usf, he lives aro...</td>\n",
       "    </tr>\n",
       "  </tbody>\n",
       "</table>\n",
       "</div>"
      ],
      "text/plain": [
       "  label                                            message\n",
       "0   ham  Go until jurong point, crazy.. Available only ...\n",
       "1   ham                      Ok lar... Joking wif u oni...\n",
       "2  spam  Free entry in 2 a wkly comp to win FA Cup fina...\n",
       "3   ham  U dun say so early hor... U c already then say...\n",
       "4   ham  Nah I don't think he goes to usf, he lives aro..."
      ]
     },
     "execution_count": 2,
     "metadata": {},
     "output_type": "execute_result"
    }
   ],
   "source": [
    "# Load the dataset with specified encoding\n",
    "df_train = pd.read_csv('/kaggle/input/spam-or-ham/TrainingData.csv', encoding='ISO-8859-1')\n",
    "df_train.head()"
   ]
  },
  {
   "cell_type": "code",
   "execution_count": 3,
   "id": "620c37bf",
   "metadata": {
    "execution": {
     "iopub.execute_input": "2024-12-08T03:17:55.915722Z",
     "iopub.status.busy": "2024-12-08T03:17:55.915299Z",
     "iopub.status.idle": "2024-12-08T03:17:55.923029Z",
     "shell.execute_reply": "2024-12-08T03:17:55.921722Z"
    },
    "papermill": {
     "duration": 0.015099,
     "end_time": "2024-12-08T03:17:55.925325",
     "exception": false,
     "start_time": "2024-12-08T03:17:55.910226",
     "status": "completed"
    },
    "tags": []
   },
   "outputs": [],
   "source": [
    "# Prepare data\n",
    "emails = df_train['message']\n",
    "labels = df_train['label'].apply(lambda x: 1 if x == 'spam' else 0)"
   ]
  },
  {
   "cell_type": "code",
   "execution_count": 4,
   "id": "e44fcff3",
   "metadata": {
    "execution": {
     "iopub.execute_input": "2024-12-08T03:17:55.934577Z",
     "iopub.status.busy": "2024-12-08T03:17:55.934168Z",
     "iopub.status.idle": "2024-12-08T03:17:55.939635Z",
     "shell.execute_reply": "2024-12-08T03:17:55.938541Z"
    },
    "papermill": {
     "duration": 0.012751,
     "end_time": "2024-12-08T03:17:55.941980",
     "exception": false,
     "start_time": "2024-12-08T03:17:55.929229",
     "status": "completed"
    },
    "tags": []
   },
   "outputs": [],
   "source": [
    "# Initialize the CountVectorizer\n",
    "vectorizer = CountVectorizer(stop_words='english', lowercase=True, max_features=5000)"
   ]
  },
  {
   "cell_type": "code",
   "execution_count": 5,
   "id": "4c41890e",
   "metadata": {
    "execution": {
     "iopub.execute_input": "2024-12-08T03:17:55.951057Z",
     "iopub.status.busy": "2024-12-08T03:17:55.950634Z",
     "iopub.status.idle": "2024-12-08T03:17:56.124525Z",
     "shell.execute_reply": "2024-12-08T03:17:56.123381Z"
    },
    "papermill": {
     "duration": 0.181171,
     "end_time": "2024-12-08T03:17:56.126919",
     "exception": false,
     "start_time": "2024-12-08T03:17:55.945748",
     "status": "completed"
    },
    "tags": []
   },
   "outputs": [
    {
     "data": {
      "text/plain": [
       "(3900, 5000)"
      ]
     },
     "execution_count": 5,
     "metadata": {},
     "output_type": "execute_result"
    }
   ],
   "source": [
    "# Transform the emails\n",
    "X_train = vectorizer.fit_transform(emails)\n",
    "X_train.shape"
   ]
  },
  {
   "cell_type": "code",
   "execution_count": 6,
   "id": "7e889bb8",
   "metadata": {
    "execution": {
     "iopub.execute_input": "2024-12-08T03:17:56.137548Z",
     "iopub.status.busy": "2024-12-08T03:17:56.137150Z",
     "iopub.status.idle": "2024-12-08T03:17:56.149622Z",
     "shell.execute_reply": "2024-12-08T03:17:56.148338Z"
    },
    "papermill": {
     "duration": 0.021572,
     "end_time": "2024-12-08T03:17:56.152445",
     "exception": false,
     "start_time": "2024-12-08T03:17:56.130873",
     "status": "completed"
    },
    "tags": []
   },
   "outputs": [],
   "source": [
    "# Split data into train and test sets\n",
    "X_train_data, X_test_data, y_train_data, y_test_data = train_test_split(X_train, labels, test_size=0.2, random_state=42)"
   ]
  },
  {
   "cell_type": "code",
   "execution_count": 7,
   "id": "4d1cf805",
   "metadata": {
    "execution": {
     "iopub.execute_input": "2024-12-08T03:17:56.161971Z",
     "iopub.status.busy": "2024-12-08T03:17:56.161556Z",
     "iopub.status.idle": "2024-12-08T03:17:56.176751Z",
     "shell.execute_reply": "2024-12-08T03:17:56.175492Z"
    },
    "papermill": {
     "duration": 0.022902,
     "end_time": "2024-12-08T03:17:56.179317",
     "exception": false,
     "start_time": "2024-12-08T03:17:56.156415",
     "status": "completed"
    },
    "tags": []
   },
   "outputs": [
    {
     "data": {
      "text/html": [
       "<style>#sk-container-id-1 {color: black;background-color: white;}#sk-container-id-1 pre{padding: 0;}#sk-container-id-1 div.sk-toggleable {background-color: white;}#sk-container-id-1 label.sk-toggleable__label {cursor: pointer;display: block;width: 100%;margin-bottom: 0;padding: 0.3em;box-sizing: border-box;text-align: center;}#sk-container-id-1 label.sk-toggleable__label-arrow:before {content: \"▸\";float: left;margin-right: 0.25em;color: #696969;}#sk-container-id-1 label.sk-toggleable__label-arrow:hover:before {color: black;}#sk-container-id-1 div.sk-estimator:hover label.sk-toggleable__label-arrow:before {color: black;}#sk-container-id-1 div.sk-toggleable__content {max-height: 0;max-width: 0;overflow: hidden;text-align: left;background-color: #f0f8ff;}#sk-container-id-1 div.sk-toggleable__content pre {margin: 0.2em;color: black;border-radius: 0.25em;background-color: #f0f8ff;}#sk-container-id-1 input.sk-toggleable__control:checked~div.sk-toggleable__content {max-height: 200px;max-width: 100%;overflow: auto;}#sk-container-id-1 input.sk-toggleable__control:checked~label.sk-toggleable__label-arrow:before {content: \"▾\";}#sk-container-id-1 div.sk-estimator input.sk-toggleable__control:checked~label.sk-toggleable__label {background-color: #d4ebff;}#sk-container-id-1 div.sk-label input.sk-toggleable__control:checked~label.sk-toggleable__label {background-color: #d4ebff;}#sk-container-id-1 input.sk-hidden--visually {border: 0;clip: rect(1px 1px 1px 1px);clip: rect(1px, 1px, 1px, 1px);height: 1px;margin: -1px;overflow: hidden;padding: 0;position: absolute;width: 1px;}#sk-container-id-1 div.sk-estimator {font-family: monospace;background-color: #f0f8ff;border: 1px dotted black;border-radius: 0.25em;box-sizing: border-box;margin-bottom: 0.5em;}#sk-container-id-1 div.sk-estimator:hover {background-color: #d4ebff;}#sk-container-id-1 div.sk-parallel-item::after {content: \"\";width: 100%;border-bottom: 1px solid gray;flex-grow: 1;}#sk-container-id-1 div.sk-label:hover label.sk-toggleable__label {background-color: #d4ebff;}#sk-container-id-1 div.sk-serial::before {content: \"\";position: absolute;border-left: 1px solid gray;box-sizing: border-box;top: 0;bottom: 0;left: 50%;z-index: 0;}#sk-container-id-1 div.sk-serial {display: flex;flex-direction: column;align-items: center;background-color: white;padding-right: 0.2em;padding-left: 0.2em;position: relative;}#sk-container-id-1 div.sk-item {position: relative;z-index: 1;}#sk-container-id-1 div.sk-parallel {display: flex;align-items: stretch;justify-content: center;background-color: white;position: relative;}#sk-container-id-1 div.sk-item::before, #sk-container-id-1 div.sk-parallel-item::before {content: \"\";position: absolute;border-left: 1px solid gray;box-sizing: border-box;top: 0;bottom: 0;left: 50%;z-index: -1;}#sk-container-id-1 div.sk-parallel-item {display: flex;flex-direction: column;z-index: 1;position: relative;background-color: white;}#sk-container-id-1 div.sk-parallel-item:first-child::after {align-self: flex-end;width: 50%;}#sk-container-id-1 div.sk-parallel-item:last-child::after {align-self: flex-start;width: 50%;}#sk-container-id-1 div.sk-parallel-item:only-child::after {width: 0;}#sk-container-id-1 div.sk-dashed-wrapped {border: 1px dashed gray;margin: 0 0.4em 0.5em 0.4em;box-sizing: border-box;padding-bottom: 0.4em;background-color: white;}#sk-container-id-1 div.sk-label label {font-family: monospace;font-weight: bold;display: inline-block;line-height: 1.2em;}#sk-container-id-1 div.sk-label-container {text-align: center;}#sk-container-id-1 div.sk-container {/* jupyter's `normalize.less` sets `[hidden] { display: none; }` but bootstrap.min.css set `[hidden] { display: none !important; }` so we also need the `!important` here to be able to override the default hidden behavior on the sphinx rendered scikit-learn.org. See: https://github.com/scikit-learn/scikit-learn/issues/21755 */display: inline-block !important;position: relative;}#sk-container-id-1 div.sk-text-repr-fallback {display: none;}</style><div id=\"sk-container-id-1\" class=\"sk-top-container\"><div class=\"sk-text-repr-fallback\"><pre>MultinomialNB()</pre><b>In a Jupyter environment, please rerun this cell to show the HTML representation or trust the notebook. <br />On GitHub, the HTML representation is unable to render, please try loading this page with nbviewer.org.</b></div><div class=\"sk-container\" hidden><div class=\"sk-item\"><div class=\"sk-estimator sk-toggleable\"><input class=\"sk-toggleable__control sk-hidden--visually\" id=\"sk-estimator-id-1\" type=\"checkbox\" checked><label for=\"sk-estimator-id-1\" class=\"sk-toggleable__label sk-toggleable__label-arrow\">MultinomialNB</label><div class=\"sk-toggleable__content\"><pre>MultinomialNB()</pre></div></div></div></div></div>"
      ],
      "text/plain": [
       "MultinomialNB()"
      ]
     },
     "execution_count": 7,
     "metadata": {},
     "output_type": "execute_result"
    }
   ],
   "source": [
    "# Train Naive Bayes Model\n",
    "nb_model = MultinomialNB()\n",
    "nb_model.fit(X_train_data, y_train_data)"
   ]
  },
  {
   "cell_type": "code",
   "execution_count": 8,
   "id": "999d3e09",
   "metadata": {
    "execution": {
     "iopub.execute_input": "2024-12-08T03:17:56.189430Z",
     "iopub.status.busy": "2024-12-08T03:17:56.189048Z",
     "iopub.status.idle": "2024-12-08T03:17:56.196295Z",
     "shell.execute_reply": "2024-12-08T03:17:56.195191Z"
    },
    "papermill": {
     "duration": 0.015429,
     "end_time": "2024-12-08T03:17:56.198940",
     "exception": false,
     "start_time": "2024-12-08T03:17:56.183511",
     "status": "completed"
    },
    "tags": []
   },
   "outputs": [],
   "source": [
    "# Predict on the test set\n",
    "y_pred = nb_model.predict(X_test_data)"
   ]
  },
  {
   "cell_type": "code",
   "execution_count": 9,
   "id": "72b414d5",
   "metadata": {
    "execution": {
     "iopub.execute_input": "2024-12-08T03:17:56.208820Z",
     "iopub.status.busy": "2024-12-08T03:17:56.208406Z",
     "iopub.status.idle": "2024-12-08T03:17:56.225934Z",
     "shell.execute_reply": "2024-12-08T03:17:56.224471Z"
    },
    "papermill": {
     "duration": 0.025327,
     "end_time": "2024-12-08T03:17:56.228341",
     "exception": false,
     "start_time": "2024-12-08T03:17:56.203014",
     "status": "completed"
    },
    "tags": []
   },
   "outputs": [
    {
     "name": "stdout",
     "output_type": "stream",
     "text": [
      "Accuracy: 0.985897435897436\n",
      "Classification Report:\n",
      "               precision    recall  f1-score   support\n",
      "\n",
      "         ham       0.99      0.99      0.99       687\n",
      "        spam       0.93      0.96      0.94        93\n",
      "\n",
      "    accuracy                           0.99       780\n",
      "   macro avg       0.96      0.97      0.97       780\n",
      "weighted avg       0.99      0.99      0.99       780\n",
      "\n"
     ]
    }
   ],
   "source": [
    "# Evaluate the model\n",
    "accuracy = accuracy_score(y_test_data, y_pred)\n",
    "report = classification_report(y_test_data, y_pred, target_names=['ham', 'spam'])\n",
    "\n",
    "print(\"Accuracy:\", accuracy)\n",
    "print(\"Classification Report:\\n\", report)"
   ]
  },
  {
   "cell_type": "code",
   "execution_count": 10,
   "id": "f538e81f",
   "metadata": {
    "execution": {
     "iopub.execute_input": "2024-12-08T03:17:56.238371Z",
     "iopub.status.busy": "2024-12-08T03:17:56.238024Z",
     "iopub.status.idle": "2024-12-08T03:17:57.109168Z",
     "shell.execute_reply": "2024-12-08T03:17:57.108024Z"
    },
    "papermill": {
     "duration": 0.878972,
     "end_time": "2024-12-08T03:17:57.111531",
     "exception": false,
     "start_time": "2024-12-08T03:17:56.232559",
     "status": "completed"
    },
    "tags": []
   },
   "outputs": [
    {
     "data": {
      "image/png": "[encoded data removed]",
      "text/plain": [
       "<Figure size 1400x800 with 2 Axes>"
      ]
     },
     "metadata": {},
     "output_type": "display_data"
    }
   ],
   "source": [
    "# Visualize word frequency in spam versus ham\n",
    "def plot_word_frequencies_with_explanation(vectorizer, model, n_words=10):\n",
    "    # Extract feature names from the vectorizer\n",
    "    feature_names = vectorizer.get_feature_names_out()\n",
    "    # Log probabilities for each class (spam and ham)\n",
    "    spam_probabilities = model.feature_log_prob_[1]  # Spam class log probabilities\n",
    "    ham_probabilities = model.feature_log_prob_[0]   # Ham class log probabilities\n",
    "\n",
    "    # Get the top words for spam and ham\n",
    "    spam_top_indices = spam_probabilities.argsort()[-n_words:][::-1]\n",
    "    ham_top_indices = ham_probabilities.argsort()[-n_words:][::-1]\n",
    "\n",
    "    # Plot the words and their log probabilities\n",
    "    plt.figure(figsize=(14, 8))  # Increased height for text\n",
    "\n",
    "    # Spam visualization\n",
    "    plt.subplot(1, 2, 1)\n",
    "    plt.barh(range(n_words), spam_probabilities[spam_top_indices], align='center', color='red')\n",
    "    plt.yticks(range(n_words), [feature_names[i] for i in spam_top_indices])\n",
    "    plt.xlabel('Log Probability')\n",
    "    plt.title('Top Words in Spam')\n",
    "\n",
    "    # Ham visualization\n",
    "    plt.subplot(1, 2, 2)\n",
    "    plt.barh(range(n_words), ham_probabilities[ham_top_indices], align='center', color='green')\n",
    "    plt.yticks(range(n_words), [feature_names[i] for i in ham_top_indices])\n",
    "    plt.xlabel('Log Probability')\n",
    "    plt.title('Top Words in Ham')\n",
    "\n",
    "    # Add explanatory text below the plots\n",
    "    explanation_text = (\n",
    "        \"X-Axis (Log Probability): Shows the log probabilities of each word being classified as spam. \"\n",
    "        \"Higher values indicate stronger association with spam messages.\\n\"\n",
    "        \"Y-Axis (Top Words): Displays the top 10 words most frequently associated with spam messages.\"\n",
    "    )\n",
    "    plt.figtext(0.1, -0.05, explanation_text, wrap=True, horizontalalignment='left', fontsize=10)\n",
    "\n",
    "    plt.tight_layout()\n",
    "    plt.show()\n",
    "\n",
    "plot_word_frequencies_with_explanation(vectorizer, nb_model)\n"
   ]
  },
  {
   "cell_type": "code",
   "execution_count": 11,
   "id": "93e9beef",
   "metadata": {
    "execution": {
     "iopub.execute_input": "2024-12-08T03:17:57.123407Z",
     "iopub.status.busy": "2024-12-08T03:17:57.123055Z",
     "iopub.status.idle": "2024-12-08T03:17:57.468208Z",
     "shell.execute_reply": "2024-12-08T03:17:57.466636Z"
    },
    "papermill": {
     "duration": 0.353473,
     "end_time": "2024-12-08T03:17:57.470299",
     "exception": true,
     "start_time": "2024-12-08T03:17:57.116826",
     "status": "failed"
    },
    "tags": []
   },
   "outputs": [
    {
     "ename": "NameError",
     "evalue": "name 'spam_count' is not defined",
     "output_type": "error",
     "traceback": [
      "\u001b[0;31m---------------------------------------------------------------------------\u001b[0m",
      "\u001b[0;31mNameError\u001b[0m                                 Traceback (most recent call last)",
      "Cell \u001b[0;32mIn[11], line 7\u001b[0m\n\u001b[1;32m      4\u001b[0m \u001b[38;5;66;03m# Create the pie chart\u001b[39;00m\n\u001b[1;32m      5\u001b[0m plt\u001b[38;5;241m.\u001b[39mfigure(figsize\u001b[38;5;241m=\u001b[39m(\u001b[38;5;241m8\u001b[39m, \u001b[38;5;241m8\u001b[39m))\n\u001b[1;32m      6\u001b[0m wedges, texts, autotexts \u001b[38;5;241m=\u001b[39m plt\u001b[38;5;241m.\u001b[39mpie(\n\u001b[0;32m----> 7\u001b[0m     [\u001b[43mspam_count\u001b[49m, ham_count],\n\u001b[1;32m      8\u001b[0m     labels\u001b[38;5;241m=\u001b[39m[\u001b[38;5;124m'\u001b[39m\u001b[38;5;124mSpam\u001b[39m\u001b[38;5;124m'\u001b[39m, \u001b[38;5;124m'\u001b[39m\u001b[38;5;124mHam\u001b[39m\u001b[38;5;124m'\u001b[39m],\n\u001b[1;32m      9\u001b[0m     autopct\u001b[38;5;241m=\u001b[39m\u001b[38;5;124m'\u001b[39m\u001b[38;5;132;01m%1.1f\u001b[39;00m\u001b[38;5;132;01m%%\u001b[39;00m\u001b[38;5;124m'\u001b[39m,\n\u001b[1;32m     10\u001b[0m     colors\u001b[38;5;241m=\u001b[39mcolors,\n\u001b[1;32m     11\u001b[0m     startangle\u001b[38;5;241m=\u001b[39m\u001b[38;5;241m90\u001b[39m,\n\u001b[1;32m     12\u001b[0m     textprops\u001b[38;5;241m=\u001b[39m{\u001b[38;5;124m'\u001b[39m\u001b[38;5;124mfontsize\u001b[39m\u001b[38;5;124m'\u001b[39m: \u001b[38;5;241m12\u001b[39m, \u001b[38;5;124m'\u001b[39m\u001b[38;5;124mweight\u001b[39m\u001b[38;5;124m'\u001b[39m: \u001b[38;5;124m'\u001b[39m\u001b[38;5;124mbold\u001b[39m\u001b[38;5;124m'\u001b[39m},\n\u001b[1;32m     13\u001b[0m     wedgeprops\u001b[38;5;241m=\u001b[39m{\u001b[38;5;124m'\u001b[39m\u001b[38;5;124mlinewidth\u001b[39m\u001b[38;5;124m'\u001b[39m: \u001b[38;5;241m1.5\u001b[39m, \u001b[38;5;124m'\u001b[39m\u001b[38;5;124medgecolor\u001b[39m\u001b[38;5;124m'\u001b[39m: \u001b[38;5;124m'\u001b[39m\u001b[38;5;124mblack\u001b[39m\u001b[38;5;124m'\u001b[39m}\n\u001b[1;32m     14\u001b[0m )\n\u001b[1;32m     16\u001b[0m \u001b[38;5;66;03m# Style percentage text\u001b[39;00m\n\u001b[1;32m     17\u001b[0m \u001b[38;5;28;01mfor\u001b[39;00m autotext \u001b[38;5;129;01min\u001b[39;00m autotexts:\n",
      "\u001b[0;31mNameError\u001b[0m: name 'spam_count' is not defined"
     ]
    },
    {
     "data": {
      "text/plain": [
       "<Figure size 800x800 with 0 Axes>"
      ]
     },
     "metadata": {},
     "output_type": "display_data"
    }
   ],
   "source": [
    "# visualize spam vs ham pie chart distribution\n",
    "colors = ['#FF6F61', '#6EC177'] \n",
    "\n",
    "# Create the pie chart\n",
    "plt.figure(figsize=(8, 8))\n",
    "wedges, texts, autotexts = plt.pie(\n",
    "    [spam_count, ham_count],\n",
    "    labels=['Spam', 'Ham'],\n",
    "    autopct='%1.1f%%',\n",
    "    colors=colors,\n",
    "    startangle=90,\n",
    "    textprops={'fontsize': 12, 'weight': 'bold'},\n",
    "    wedgeprops={'linewidth': 1.5, 'edgecolor': 'black'}\n",
    ")\n",
    "\n",
    "# Style percentage text\n",
    "for autotext in autotexts:\n",
    "    autotext.set_color('white') \n",
    "    autotext.set_fontsize(14)\n",
    "\n",
    "plt.title('Proportion of Spam vs Ham Messages', fontsize=16, weight='bold')\n",
    "\n",
    "plt.tight_layout()\n",
    "plt.show()\n"
   ]
  },
  {
   "cell_type": "code",
   "execution_count": null,
   "id": "e9509888",
   "metadata": {
    "execution": {
     "iopub.execute_input": "2024-12-08T03:17:21.486127Z",
     "iopub.status.busy": "2024-12-08T03:17:21.485609Z",
     "iopub.status.idle": "2024-12-08T03:17:21.506868Z",
     "shell.execute_reply": "2024-12-08T03:17:21.505866Z",
     "shell.execute_reply.started": "2024-12-08T03:17:21.486074Z"
    },
    "papermill": {
     "duration": null,
     "end_time": null,
     "exception": null,
     "start_time": null,
     "status": "pending"
    },
    "tags": []
   },
   "outputs": [],
   "source": [
    "# Load the new dataset with new emails with specified encoding\n",
    "df_new_test = pd.read_csv('/kaggle/input/spam-or-ham/TestData.csv', encoding='ISO-8859-1')\n",
    "df_new_test.head()"
   ]
  },
  {
   "cell_type": "code",
   "execution_count": null,
   "id": "4ad723a0",
   "metadata": {
    "execution": {
     "iopub.execute_input": "2024-12-08T03:17:21.508350Z",
     "iopub.status.busy": "2024-12-08T03:17:21.508047Z",
     "iopub.status.idle": "2024-12-08T03:17:21.556504Z",
     "shell.execute_reply": "2024-12-08T03:17:21.555196Z",
     "shell.execute_reply.started": "2024-12-08T03:17:21.508321Z"
    },
    "papermill": {
     "duration": null,
     "end_time": null,
     "exception": null,
     "start_time": null,
     "status": "pending"
    },
    "tags": []
   },
   "outputs": [],
   "source": [
    "new_emails = df_new_test['message']  \n",
    "\n",
    "# Transform the messages using the trained vectorizer\n",
    "new_X = vectorizer.transform(new_emails)\n",
    "\n",
    "# Predict using the trained model\n",
    "new_predictions = nb_model.predict(new_X)\n",
    "\n",
    "# Add predictions to the dataframe\n",
    "df_new_test['Prediction'] = new_predictions\n",
    "df_new_test['Prediction'] = df_new_test['Prediction'].apply(lambda x: 'spam' if x == 1 else 'ham')\n",
    "\n",
    "# Print a few predictions\n",
    "print(df_new_test.head())\n",
    "\n",
    "# Save predictions to a new CSV file\n",
    "df_new_test.to_csv('PredictedTestData.csv', index=False)"
   ]
  }
 ],
 "metadata": {
  "kaggle": {
   "accelerator": "none",
   "dataSources": [
    {
     "datasetId": 6252061,
     "sourceId": 10130514,
     "sourceType": "datasetVersion"
    }
   ],
   "dockerImageVersionId": 30804,
   "isGpuEnabled": false,
   "isInternetEnabled": false,
   "language": "python",
   "sourceType": "notebook"
  },
  "kernelspec": {
   "display_name": "Python 3",
   "language": "python",
   "name": "python3"
  },
  "language_info": {
   "codemirror_mode": {
    "name": "ipython",
    "version": 3
   },
   "file_extension": ".py",
   "mimetype": "text/x-python",
   "name": "python",
   "nbconvert_exporter": "python",
   "pygments_lexer": "ipython3",
   "version": "3.10.14"
  },
  "papermill": {
   "default_parameters": {},
   "duration": 7.821289,
   "end_time": "2024-12-08T03:17:58.197769",
   "environment_variables": {},
   "exception": true,
   "input_path": "__notebook__.ipynb",
   "output_path": "__notebook__.ipynb",
   "parameters": {},
   "start_time": "2024-12-08T03:17:50.376480",
   "version": "2.6.0"
  }
 },
 "nbformat": 4,
 "nbformat_minor": 5
}
