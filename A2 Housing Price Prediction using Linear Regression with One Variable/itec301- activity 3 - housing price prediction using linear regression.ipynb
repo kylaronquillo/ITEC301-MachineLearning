{
 "cells": [
  {
   "cell_type": "markdown",
   "id": "28b337c6",
   "metadata": {
    "papermill": {
     "duration": 0.005209,
     "end_time": "2024-11-15T06:07:30.274485",
     "exception": false,
     "start_time": "2024-11-15T06:07:30.269276",
     "status": "completed"
    },
    "tags": []
   },
   "source": [
    "# Housing Price Prediction using Linear Regression "
   ]
  },
  {
   "cell_type": "code",
   "execution_count": 1,
   "id": "db980446",
   "metadata": {
    "_cell_guid": "b1076dfc-b9ad-4769-8c92-a6c4dae69d19",
    "_uuid": "8f2839f25d086af736a60e9eeb907d3b93b6e0e5",
    "execution": {
     "iopub.execute_input": "2024-11-15T06:07:30.288477Z",
     "iopub.status.busy": "2024-11-15T06:07:30.287055Z",
     "iopub.status.idle": "2024-11-15T06:07:33.035735Z",
     "shell.execute_reply": "2024-11-15T06:07:33.034608Z"
    },
    "papermill": {
     "duration": 2.759102,
     "end_time": "2024-11-15T06:07:33.038750",
     "exception": false,
     "start_time": "2024-11-15T06:07:30.279648",
     "status": "completed"
    },
    "tags": []
   },
   "outputs": [],
   "source": [
    "#import libraries\n",
    "from sklearn.model_selection import train_test_split, cross_val_score\n",
    "from sklearn.linear_model import LinearRegression\n",
    "from sklearn.metrics import mean_squared_error\n",
    "import numpy as np\n",
    "import pandas as pd\n",
    "import matplotlib.pyplot as plt"
   ]
  },
  {
   "cell_type": "code",
   "execution_count": 2,
   "id": "358779e8",
   "metadata": {
    "execution": {
     "iopub.execute_input": "2024-11-15T06:07:33.050726Z",
     "iopub.status.busy": "2024-11-15T06:07:33.049381Z",
     "iopub.status.idle": "2024-11-15T06:07:33.169004Z",
     "shell.execute_reply": "2024-11-15T06:07:33.167742Z"
    },
    "papermill": {
     "duration": 0.128526,
     "end_time": "2024-11-15T06:07:33.171764",
     "exception": false,
     "start_time": "2024-11-15T06:07:33.043238",
     "status": "completed"
    },
    "tags": []
   },
   "outputs": [
    {
     "data": {
      "text/html": [
       "<div>\n",
       "<style scoped>\n",
       "    .dataframe tbody tr th:only-of-type {\n",
       "        vertical-align: middle;\n",
       "    }\n",
       "\n",
       "    .dataframe tbody tr th {\n",
       "        vertical-align: top;\n",
       "    }\n",
       "\n",
       "    .dataframe thead th {\n",
       "        text-align: right;\n",
       "    }\n",
       "</style>\n",
       "<table border=\"1\" class=\"dataframe\">\n",
       "  <thead>\n",
       "    <tr style=\"text-align: right;\">\n",
       "      <th></th>\n",
       "      <th>Size (sq ft)</th>\n",
       "      <th>Price ($1000)</th>\n",
       "    </tr>\n",
       "  </thead>\n",
       "  <tbody>\n",
       "    <tr>\n",
       "      <th>0</th>\n",
       "      <td>650</td>\n",
       "      <td>150</td>\n",
       "    </tr>\n",
       "    <tr>\n",
       "      <th>1</th>\n",
       "      <td>700</td>\n",
       "      <td>160</td>\n",
       "    </tr>\n",
       "    <tr>\n",
       "      <th>2</th>\n",
       "      <td>850</td>\n",
       "      <td>170</td>\n",
       "    </tr>\n",
       "    <tr>\n",
       "      <th>3</th>\n",
       "      <td>900</td>\n",
       "      <td>175</td>\n",
       "    </tr>\n",
       "    <tr>\n",
       "      <th>4</th>\n",
       "      <td>1000</td>\n",
       "      <td>180</td>\n",
       "    </tr>\n",
       "  </tbody>\n",
       "</table>\n",
       "</div>"
      ],
      "text/plain": [
       "   Size (sq ft)  Price ($1000)\n",
       "0           650            150\n",
       "1           700            160\n",
       "2           850            170\n",
       "3           900            175\n",
       "4          1000            180"
      ]
     },
     "execution_count": 2,
     "metadata": {},
     "output_type": "execute_result"
    }
   ],
   "source": [
    "#Load dataset\n",
    "df = pd.read_csv('/kaggle/input/housing-prices-and-their-size/housing_price.csv')\n",
    "df.head()"
   ]
  },
  {
   "cell_type": "code",
   "execution_count": 3,
   "id": "181faae4",
   "metadata": {
    "execution": {
     "iopub.execute_input": "2024-11-15T06:07:33.182553Z",
     "iopub.status.busy": "2024-11-15T06:07:33.182114Z",
     "iopub.status.idle": "2024-11-15T06:07:33.559837Z",
     "shell.execute_reply": "2024-11-15T06:07:33.558636Z"
    },
    "papermill": {
     "duration": 0.386087,
     "end_time": "2024-11-15T06:07:33.562315",
     "exception": false,
     "start_time": "2024-11-15T06:07:33.176228",
     "status": "completed"
    },
    "tags": []
   },
   "outputs": [
    {
     "data": {
      "image/png": "[encoded data removed]",
      "text/plain": [
       "<Figure size 640x480 with 1 Axes>"
      ]
     },
     "metadata": {},
     "output_type": "display_data"
    }
   ],
   "source": [
    "#Visualize the data\n",
    "plt.plot(df['Size (sq ft)'], df['Price ($1000)'], color='blue',marker='.')\n",
    "plt.title('Size of House vs Price')\n",
    "plt.xlabel('Size (sq ft)')\n",
    "plt.ylabel('Price ($1000)')\n",
    "plt.show()"
   ]
  },
  {
   "cell_type": "code",
   "execution_count": 4,
   "id": "7668bada",
   "metadata": {
    "execution": {
     "iopub.execute_input": "2024-11-15T06:07:33.574105Z",
     "iopub.status.busy": "2024-11-15T06:07:33.573642Z",
     "iopub.status.idle": "2024-11-15T06:07:33.588272Z",
     "shell.execute_reply": "2024-11-15T06:07:33.587005Z"
    },
    "papermill": {
     "duration": 0.023503,
     "end_time": "2024-11-15T06:07:33.590694",
     "exception": false,
     "start_time": "2024-11-15T06:07:33.567191",
     "status": "completed"
    },
    "tags": []
   },
   "outputs": [],
   "source": [
    "#Split the data (train and test)\n",
    "\n",
    "X_data = df[['Size (sq ft)']]\n",
    "y_data = df['Price ($1000)']\n",
    "\n",
    "X_train, X_test, y_train, y_test = train_test_split(X_data, y_data, test_size=0.2, random_state=42)"
   ]
  },
  {
   "cell_type": "code",
   "execution_count": 5,
   "id": "b46b9a9e",
   "metadata": {
    "execution": {
     "iopub.execute_input": "2024-11-15T06:07:33.602430Z",
     "iopub.status.busy": "2024-11-15T06:07:33.602023Z",
     "iopub.status.idle": "2024-11-15T06:07:33.628695Z",
     "shell.execute_reply": "2024-11-15T06:07:33.627543Z"
    },
    "papermill": {
     "duration": 0.035688,
     "end_time": "2024-11-15T06:07:33.631394",
     "exception": false,
     "start_time": "2024-11-15T06:07:33.595706",
     "status": "completed"
    },
    "tags": []
   },
   "outputs": [
    {
     "data": {
      "text/html": [
       "<style>#sk-container-id-1 {color: black;background-color: white;}#sk-container-id-1 pre{padding: 0;}#sk-container-id-1 div.sk-toggleable {background-color: white;}#sk-container-id-1 label.sk-toggleable__label {cursor: pointer;display: block;width: 100%;margin-bottom: 0;padding: 0.3em;box-sizing: border-box;text-align: center;}#sk-container-id-1 label.sk-toggleable__label-arrow:before {content: \"▸\";float: left;margin-right: 0.25em;color: #696969;}#sk-container-id-1 label.sk-toggleable__label-arrow:hover:before {color: black;}#sk-container-id-1 div.sk-estimator:hover label.sk-toggleable__label-arrow:before {color: black;}#sk-container-id-1 div.sk-toggleable__content {max-height: 0;max-width: 0;overflow: hidden;text-align: left;background-color: #f0f8ff;}#sk-container-id-1 div.sk-toggleable__content pre {margin: 0.2em;color: black;border-radius: 0.25em;background-color: #f0f8ff;}#sk-container-id-1 input.sk-toggleable__control:checked~div.sk-toggleable__content {max-height: 200px;max-width: 100%;overflow: auto;}#sk-container-id-1 input.sk-toggleable__control:checked~label.sk-toggleable__label-arrow:before {content: \"▾\";}#sk-container-id-1 div.sk-estimator input.sk-toggleable__control:checked~label.sk-toggleable__label {background-color: #d4ebff;}#sk-container-id-1 div.sk-label input.sk-toggleable__control:checked~label.sk-toggleable__label {background-color: #d4ebff;}#sk-container-id-1 input.sk-hidden--visually {border: 0;clip: rect(1px 1px 1px 1px);clip: rect(1px, 1px, 1px, 1px);height: 1px;margin: -1px;overflow: hidden;padding: 0;position: absolute;width: 1px;}#sk-container-id-1 div.sk-estimator {font-family: monospace;background-color: #f0f8ff;border: 1px dotted black;border-radius: 0.25em;box-sizing: border-box;margin-bottom: 0.5em;}#sk-container-id-1 div.sk-estimator:hover {background-color: #d4ebff;}#sk-container-id-1 div.sk-parallel-item::after {content: \"\";width: 100%;border-bottom: 1px solid gray;flex-grow: 1;}#sk-container-id-1 div.sk-label:hover label.sk-toggleable__label {background-color: #d4ebff;}#sk-container-id-1 div.sk-serial::before {content: \"\";position: absolute;border-left: 1px solid gray;box-sizing: border-box;top: 0;bottom: 0;left: 50%;z-index: 0;}#sk-container-id-1 div.sk-serial {display: flex;flex-direction: column;align-items: center;background-color: white;padding-right: 0.2em;padding-left: 0.2em;position: relative;}#sk-container-id-1 div.sk-item {position: relative;z-index: 1;}#sk-container-id-1 div.sk-parallel {display: flex;align-items: stretch;justify-content: center;background-color: white;position: relative;}#sk-container-id-1 div.sk-item::before, #sk-container-id-1 div.sk-parallel-item::before {content: \"\";position: absolute;border-left: 1px solid gray;box-sizing: border-box;top: 0;bottom: 0;left: 50%;z-index: -1;}#sk-container-id-1 div.sk-parallel-item {display: flex;flex-direction: column;z-index: 1;position: relative;background-color: white;}#sk-container-id-1 div.sk-parallel-item:first-child::after {align-self: flex-end;width: 50%;}#sk-container-id-1 div.sk-parallel-item:last-child::after {align-self: flex-start;width: 50%;}#sk-container-id-1 div.sk-parallel-item:only-child::after {width: 0;}#sk-container-id-1 div.sk-dashed-wrapped {border: 1px dashed gray;margin: 0 0.4em 0.5em 0.4em;box-sizing: border-box;padding-bottom: 0.4em;background-color: white;}#sk-container-id-1 div.sk-label label {font-family: monospace;font-weight: bold;display: inline-block;line-height: 1.2em;}#sk-container-id-1 div.sk-label-container {text-align: center;}#sk-container-id-1 div.sk-container {/* jupyter's `normalize.less` sets `[hidden] { display: none; }` but bootstrap.min.css set `[hidden] { display: none !important; }` so we also need the `!important` here to be able to override the default hidden behavior on the sphinx rendered scikit-learn.org. See: https://github.com/scikit-learn/scikit-learn/issues/21755 */display: inline-block !important;position: relative;}#sk-container-id-1 div.sk-text-repr-fallback {display: none;}</style><div id=\"sk-container-id-1\" class=\"sk-top-container\"><div class=\"sk-text-repr-fallback\"><pre>LinearRegression()</pre><b>In a Jupyter environment, please rerun this cell to show the HTML representation or trust the notebook. <br />On GitHub, the HTML representation is unable to render, please try loading this page with nbviewer.org.</b></div><div class=\"sk-container\" hidden><div class=\"sk-item\"><div class=\"sk-estimator sk-toggleable\"><input class=\"sk-toggleable__control sk-hidden--visually\" id=\"sk-estimator-id-1\" type=\"checkbox\" checked><label for=\"sk-estimator-id-1\" class=\"sk-toggleable__label sk-toggleable__label-arrow\">LinearRegression</label><div class=\"sk-toggleable__content\"><pre>LinearRegression()</pre></div></div></div></div></div>"
      ],
      "text/plain": [
       "LinearRegression()"
      ]
     },
     "execution_count": 5,
     "metadata": {},
     "output_type": "execute_result"
    }
   ],
   "source": [
    "#Build model (Linear Regression)\n",
    "model = LinearRegression()\n",
    "model.fit(X_train, y_train)"
   ]
  },
  {
   "cell_type": "code",
   "execution_count": 6,
   "id": "b0ffba6b",
   "metadata": {
    "execution": {
     "iopub.execute_input": "2024-11-15T06:07:33.644501Z",
     "iopub.status.busy": "2024-11-15T06:07:33.644092Z",
     "iopub.status.idle": "2024-11-15T06:07:33.656578Z",
     "shell.execute_reply": "2024-11-15T06:07:33.655292Z"
    },
    "papermill": {
     "duration": 0.022534,
     "end_time": "2024-11-15T06:07:33.659830",
     "exception": false,
     "start_time": "2024-11-15T06:07:33.637296",
     "status": "completed"
    },
    "tags": []
   },
   "outputs": [
    {
     "name": "stdout",
     "output_type": "stream",
     "text": [
      "Mean Squared Error for Test Data: 124.14816208136814\n",
      "Mean Squared Error for All Data: 95.5040050181663\n",
      "Coefficient (slope): 0.11992079757891516\n",
      "Intercept: 57.859738928899674\n"
     ]
    }
   ],
   "source": [
    "#Evaluate\n",
    "y_pred = model.predict(X_test)\n",
    "mse_test = mean_squared_error(y_test, y_pred)\n",
    "mse_complete = mean_squared_error(y_data,model.predict(X_data))\n",
    "\n",
    "print(\"Mean Squared Error for Test Data:\", mse_test)\n",
    "print(\"Mean Squared Error for All Data:\", mse_complete)\n",
    "print(\"Coefficient (slope):\", model.coef_[0])\n",
    "print(\"Intercept:\", model.intercept_)"
   ]
  },
  {
   "cell_type": "code",
   "execution_count": 7,
   "id": "95f44926",
   "metadata": {
    "execution": {
     "iopub.execute_input": "2024-11-15T06:07:33.672684Z",
     "iopub.status.busy": "2024-11-15T06:07:33.672219Z",
     "iopub.status.idle": "2024-11-15T06:07:34.019789Z",
     "shell.execute_reply": "2024-11-15T06:07:34.018353Z"
    },
    "papermill": {
     "duration": 0.35742,
     "end_time": "2024-11-15T06:07:34.022586",
     "exception": false,
     "start_time": "2024-11-15T06:07:33.665166",
     "status": "completed"
    },
    "tags": []
   },
   "outputs": [
    {
     "data": {
      "image/png": "[encoded data removed]",
      "text/plain": [
       "<Figure size 640x480 with 1 Axes>"
      ]
     },
     "metadata": {},
     "output_type": "display_data"
    }
   ],
   "source": [
    "#Visualize the regression line\n",
    "plt.scatter(X_train, y_train, color='blue', label='Training data')\n",
    "plt.plot(X_train, model.predict(X_train), color='red', label='Regression Line')\n",
    "\n",
    "plt.title('Linear Regression Model')\n",
    "plt.xlabel('Years of Experience')\n",
    "plt.ylabel('Salary')\n",
    "plt.legend()\n",
    "plt.show()"
   ]
  },
  {
   "cell_type": "code",
   "execution_count": 8,
   "id": "06f9a21c",
   "metadata": {
    "execution": {
     "iopub.execute_input": "2024-11-15T06:07:34.036914Z",
     "iopub.status.busy": "2024-11-15T06:07:34.036388Z",
     "iopub.status.idle": "2024-11-15T06:07:34.045982Z",
     "shell.execute_reply": "2024-11-15T06:07:34.044574Z"
    },
    "papermill": {
     "duration": 0.020007,
     "end_time": "2024-11-15T06:07:34.049049",
     "exception": false,
     "start_time": "2024-11-15T06:07:34.029042",
     "status": "completed"
    },
    "tags": []
   },
   "outputs": [
    {
     "name": "stdout",
     "output_type": "stream",
     "text": [
      "Predicted Price for a 2000 sq ft house: $ 177780.5365078148\n"
     ]
    }
   ],
   "source": [
    "# Predict the price of a house with a given size\n",
    "sample_size = pd.DataFrame([[1000]], columns=['Size (sq ft)'])  # using DataFrame with correct column name\n",
    "predicted_price = model.predict(sample_size)\n",
    "print(\"Predicted Price for a 2000 sq ft house: $\", predicted_price[0] * 1000)"
   ]
  }
 ],
 "metadata": {
  "kaggle": {
   "accelerator": "none",
   "dataSources": [
    {
     "datasetId": 6078738,
     "sourceId": 9896453,
     "sourceType": "datasetVersion"
    }
   ],
   "dockerImageVersionId": 30786,
   "isGpuEnabled": false,
   "isInternetEnabled": false,
   "language": "python",
   "sourceType": "notebook"
  },
  "kernelspec": {
   "display_name": "Python 3",
   "language": "python",
   "name": "python3"
  },
  "language_info": {
   "codemirror_mode": {
    "name": "ipython",
    "version": 3
   },
   "file_extension": ".py",
   "mimetype": "text/x-python",
   "name": "python",
   "nbconvert_exporter": "python",
   "pygments_lexer": "ipython3",
   "version": "3.10.14"
  },
  "papermill": {
   "default_parameters": {},
   "duration": 7.557923,
   "end_time": "2024-11-15T06:07:34.677726",
   "environment_variables": {},
   "exception": null,
   "input_path": "__notebook__.ipynb",
   "output_path": "__notebook__.ipynb",
   "parameters": {},
   "start_time": "2024-11-15T06:07:27.119803",
   "version": "2.6.0"
  }
 },
 "nbformat": 4,
 "nbformat_minor": 5
}
